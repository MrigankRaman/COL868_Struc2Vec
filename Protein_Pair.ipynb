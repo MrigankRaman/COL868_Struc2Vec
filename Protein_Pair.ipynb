{
 "cells": [
  {
   "cell_type": "code",
   "execution_count": 1,
   "metadata": {},
   "outputs": [],
   "source": [
    "import numpy as np"
   ]
  },
  {
   "cell_type": "code",
   "execution_count": 2,
   "metadata": {},
   "outputs": [],
   "source": [
    "s = np.loadtxt('new_Protein_edges_full.txt')   #edge file"
   ]
  },
  {
   "cell_type": "code",
   "execution_count": 5,
   "metadata": {},
   "outputs": [],
   "source": [
    "x = s[:,0]\n",
    "y = s[:,1]\n",
    "max = np.max(x).astype(np.uint32)"
   ]
  },
  {
   "cell_type": "code",
   "execution_count": 6,
   "metadata": {},
   "outputs": [],
   "source": [
    "c = 0\n",
    "for i in range(max+1):\n",
    "  if i not in x and i not in y:\n",
    "    c = c+1"
   ]
  },
  {
   "cell_type": "code",
   "execution_count": 7,
   "metadata": {},
   "outputs": [],
   "source": [
    "nodes = np.zeros((max+1-c,))\n",
    "f =0\n",
    "for i in range(max+1):\n",
    "  if i in x or i in y:\n",
    "    nodes[f] = i\n",
    "    f = f+1"
   ]
  },
  {
   "cell_type": "code",
   "execution_count": 8,
   "metadata": {},
   "outputs": [],
   "source": [
    "nodes = nodes.astype(np.uint32)"
   ]
  },
  {
   "cell_type": "code",
   "execution_count": 9,
   "metadata": {},
   "outputs": [],
   "source": [
    "label1 = np.loadtxt('PROTEINS_full_node_labels.txt')     #label file"
   ]
  },
  {
   "cell_type": "code",
   "execution_count": 10,
   "metadata": {},
   "outputs": [],
   "source": [
    "label1 = label1.astype(np.uint32)"
   ]
  },
  {
   "cell_type": "code",
   "execution_count": 11,
   "metadata": {},
   "outputs": [],
   "source": [
    "labels = {}\n",
    "for i in range(max+1):\n",
    "  if i in nodes:\n",
    "    labels[i] = label1[i] "
   ]
  },
  {
   "cell_type": "code",
   "execution_count": 12,
   "metadata": {},
   "outputs": [],
   "source": [
    "s = s.astype(np.uint32)"
   ]
  },
  {
   "cell_type": "code",
   "execution_count": 13,
   "metadata": {},
   "outputs": [],
   "source": [
    "adj_list = {}\n",
    "for i in range(nodes.shape[0]):\n",
    "  adj_list[nodes[i]] = []\n",
    "for i in range(1,s.shape[0]):\n",
    "  adj_list[s[i][0]].append(s[i][1])\n",
    "  #adj_list[s[i][1]].append(s[i][0])"
   ]
  },
  {
   "cell_type": "code",
   "execution_count": 15,
   "metadata": {},
   "outputs": [],
   "source": [
    "r = np.loadtxt('Protein_full_128.emb')     #embedding file"
   ]
  },
  {
   "cell_type": "code",
   "execution_count": null,
   "metadata": {},
   "outputs": [],
   "source": [
    "emb = {}\n",
    "for i in range(nodes.shape[0]):\n",
    "  emb[r[i,0]] = r[i,1:] "
   ]
  },
  {
   "cell_type": "code",
   "execution_count": null,
   "metadata": {},
   "outputs": [],
   "source": [
    "import random\n",
    "c=0\n",
    "neg_edges = np.zeros((300000,2))\n",
    "while(c<300000):\n",
    "  print(c)\n",
    "  l = (random.sample(list(nodes[:]),1)[0], random.sample(list(nodes[:]),1)[0])\n",
    "  neg_edges[c][0] = l[0]\n",
    "  neg_edges[c][1] = l[1]\n",
    "  c = c+1"
   ]
  },
  {
   "cell_type": "code",
   "execution_count": null,
   "metadata": {},
   "outputs": [],
   "source": [
    "X_train = np.zeros((300000,256))\n",
    "Y_train = np.zeros((300000,))\n",
    "for i in range(300000):\n",
    "  X_train[i] = np.concatenate((emb[neg_edges[i][0]],emb[neg_edges[i][1]]))\n",
    "  if labels[neg_edges[i][0]] == labels[neg_edges[i][1]]:\n",
    "    Y_train[i] = 1\n",
    "  else:\n",
    "    Y_train[i] = 0"
   ]
  },
  {
   "cell_type": "code",
   "execution_count": null,
   "metadata": {},
   "outputs": [],
   "source": [
    "X_train_train = X_train[60000:,:]\n",
    "X_train_test = X_train[:60000,:]\n",
    "Y_train_train = Y_train[60000:]\n",
    "Y_train_test = Y_train[:60000]"
   ]
  },
  {
   "cell_type": "code",
   "execution_count": null,
   "metadata": {},
   "outputs": [],
   "source": [
    "from sklearn.ensemble import RandomForestClassifier\n",
    "\n",
    "regressor = RandomForestClassifier(n_estimators=100, random_state=0)\n",
    "regressor.fit(X_train_train, Y_train_train)\n",
    "y_pred = regressor.predict(X_train_test)"
   ]
  },
  {
   "cell_type": "code",
   "execution_count": null,
   "metadata": {},
   "outputs": [],
   "source": [
    "from sklearn.metrics import roc_auc_score\n",
    "roc_auc_score(Y_train_test, y_pred)"
   ]
  },
  {
   "cell_type": "code",
   "execution_count": null,
   "metadata": {},
   "outputs": [],
   "source": [
    "from sklearn.metrics import classification_report\n",
    "print(classification_report(Y_train_test, y_pred))"
   ]
  }
 ],
 "metadata": {
  "kernelspec": {
   "display_name": "Python 3",
   "language": "python",
   "name": "python3"
  },
  "language_info": {
   "codemirror_mode": {
    "name": "ipython",
    "version": 3
   },
   "file_extension": ".py",
   "mimetype": "text/x-python",
   "name": "python",
   "nbconvert_exporter": "python",
   "pygments_lexer": "ipython3",
   "version": "3.7.4"
  }
 },
 "nbformat": 4,
 "nbformat_minor": 4
}
